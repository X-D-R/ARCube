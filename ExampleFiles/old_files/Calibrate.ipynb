{
 "cells": [
  {
   "cell_type": "code",
   "execution_count": 1,
   "id": "39f4f854-479a-4e80-8bd5-988033b76811",
   "metadata": {},
   "outputs": [
    {
     "name": "stdout",
     "output_type": "stream",
     "text": [
      "['left01.jpg', 'left02.jpg', 'left03.jpg', 'left04.jpg', 'left05.jpg', 'left06.jpg', 'left07.jpg', 'left08.jpg', 'left09.jpg', 'left11.jpg', 'left12.jpg', 'left13.jpg', 'left14.jpg']\n",
      "left01.jpg OK\n",
      "left02.jpg OK\n",
      "left03.jpg OK\n",
      "left04.jpg OK\n",
      "left05.jpg OK\n",
      "left06.jpg OK\n",
      "left07.jpg OK\n",
      "left08.jpg OK\n",
      "left09.jpg OK\n",
      "left11.jpg OK\n",
      "left12.jpg OK\n",
      "left13.jpg OK\n",
      "left14.jpg OK\n"
     ]
    }
   ],
   "source": [
    "import numpy as np\n",
    "import cv2 as cv\n",
    "import glob\n",
    "\n",
    "# termination criteria\n",
    "criteria = (cv.TERM_CRITERIA_EPS + cv.TERM_CRITERIA_MAX_ITER, 30, 0.001)\n",
    "\n",
    "# prepare object points, like (0,0,0), (1,0,0), (2,0,0) ....,(6,5,0)\n",
    "objp = np.zeros((6*9,3), np.float32)\n",
    "objp[:,:2] = np.mgrid[0:9,0:6].T.reshape(-1,2)\n",
    "\n",
    "# Arrays to store object points and image points from all the images.\n",
    "objpoints = [] # 3d point in real world space\n",
    "imgpoints = [] # 2d points in image plane.\n",
    "\n",
    "images = glob.glob('left[0-9][0-9].jpg')\n",
    "print(images)\n",
    "\n",
    "for fname in images:\n",
    "    img = cv.imread(fname)\n",
    "    gray = cv.cvtColor(img, cv.COLOR_BGR2GRAY)\n",
    " \n",
    "    # Find the chess board corners\n",
    "    ret, corners = cv.findChessboardCorners(gray, (9,6), None)\n",
    "    # If found, add object points, image points (after refining them)\n",
    "    if ret == True:\n",
    "        objpoints.append(objp)\n",
    "\n",
    "    print(fname + \" OK\")\n",
    "    corners2 = cv.cornerSubPix(gray, corners, (11, 11), (-1,-1), criteria)\n",
    "    imgpoints.append(corners2)\n",
    " \n",
    "    # Draw and display the corners\n",
    "    cv.drawChessboardCorners(img, (9,6), corners2, ret)\n",
    "    cv.imshow('img', img)\n",
    "    cv.waitKey(1500)\n",
    " \n",
    "cv.destroyAllWindows()"
   ]
  },
  {
   "cell_type": "code",
   "execution_count": 5,
   "id": "c2e694c1-2443-4ece-87ee-7901135c4566",
   "metadata": {},
   "outputs": [],
   "source": [
    "ret, mtx, dist, rvecs, tvecs = cv.calibrateCamera(objpoints, imgpoints, gray.shape[::-1], None, None)"
   ]
  },
  {
   "cell_type": "code",
   "execution_count": 7,
   "id": "16703c67-66b6-4766-ac35-7b29c912f66f",
   "metadata": {},
   "outputs": [
    {
     "name": "stdout",
     "output_type": "stream",
     "text": [
      "0.40869477031110363 [[536.07345238   0.         342.37046831]\n",
      " [  0.         536.01636205 235.53687171]\n",
      " [  0.           0.           1.        ]] [[-0.26509041 -0.04674209  0.00183302 -0.00031469  0.252312  ]] (array([[0.16853574],\n",
      "       [0.27575303],\n",
      "       [0.01346808]]), array([[ 0.41306799],\n",
      "       [ 0.64934487],\n",
      "       [-1.33719473]]), array([[-0.27697515],\n",
      "       [ 0.18689084],\n",
      "       [ 0.35483186]]), array([[-0.11082293],\n",
      "       [ 0.23974749],\n",
      "       [-0.0021351 ]]), array([[-0.29188245],\n",
      "       [ 0.42829916],\n",
      "       [ 1.31269861]]), array([[0.40772928],\n",
      "       [0.30384779],\n",
      "       [1.64906548]]), array([[0.17947256],\n",
      "       [0.34574754],\n",
      "       [1.86847039]]), array([[-0.09096664],\n",
      "       [ 0.47965881],\n",
      "       [ 1.7533841 ]]), array([[ 0.20290341],\n",
      "       [-0.42414241],\n",
      "       [ 0.1324557 ]]), array([[-0.41926886],\n",
      "       [-0.49992924],\n",
      "       [ 1.33554719]]), array([[-0.23849925],\n",
      "       [ 0.34777535],\n",
      "       [ 1.53073676]]), array([[ 0.46301579],\n",
      "       [-0.2830716 ],\n",
      "       [ 1.23860403]]), array([[-0.17020423],\n",
      "       [-0.47139619],\n",
      "       [ 1.34598617]])) (array([[-3.0111879 ],\n",
      "       [-4.35756722],\n",
      "       [15.99287267]]), array([[-2.3455162 ],\n",
      "       [ 3.319315  ],\n",
      "       [14.15395998]]), array([[-1.59581996],\n",
      "       [-4.01601431],\n",
      "       [12.72969802]]), array([[-3.93839418],\n",
      "       [-2.6924189 ],\n",
      "       [13.23774749]]), array([[ 2.33766534],\n",
      "       [-4.61207411],\n",
      "       [12.69076023]]), array([[ 6.68813262],\n",
      "       [-2.622046  ],\n",
      "       [13.46297433]]), array([[ 0.77879534],\n",
      "       [-2.87200475],\n",
      "       [15.58024753]]), array([[ 3.15993955],\n",
      "       [-3.51707805],\n",
      "       [12.67000703]]), array([[-2.6554875 ],\n",
      "       [-3.24015569],\n",
      "       [11.13525122]]), array([[ 1.87379914],\n",
      "       [-4.43949311],\n",
      "       [13.52590802]]), array([[ 2.02854328],\n",
      "       [-4.10331208],\n",
      "       [12.89143124]]), array([[ 1.3458958 ],\n",
      "       [-3.66594317],\n",
      "       [11.66663661]]), array([[ 1.79855541],\n",
      "       [-4.32644261],\n",
      "       [12.50141708]]))\n"
     ]
    }
   ],
   "source": [
    "print(ret, mtx, dist, rvecs, tvecs)"
   ]
  },
  {
   "cell_type": "code",
   "execution_count": 43,
   "id": "d648275a-9e54-42b1-b8f4-421500073ad9",
   "metadata": {},
   "outputs": [],
   "source": [
    "img = cv.imread('left12.jpg')\n",
    "h, w = img.shape[:2]\n",
    "newcameramtx, roi = cv.getOptimalNewCameraMatrix(mtx, dist, (w,h), 1, (w,h))"
   ]
  },
  {
   "cell_type": "code",
   "execution_count": 45,
   "id": "b81beafe-6046-4ae2-a635-80502311824a",
   "metadata": {},
   "outputs": [
    {
     "data": {
      "text/plain": [
       "True"
      ]
     },
     "execution_count": 45,
     "metadata": {},
     "output_type": "execute_result"
    }
   ],
   "source": [
    "# undistort\n",
    "dst = cv.undistort(img, mtx, dist, None, newcameramtx)\n",
    " \n",
    "# crop the image\n",
    "x, y, w, h = roi\n",
    "dst = dst[y:y+h, x:x+w]\n",
    "cv.imwrite('calibresult.png', dst)"
   ]
  },
  {
   "cell_type": "code",
   "execution_count": 47,
   "id": "5c8f180c-966e-4764-8ee8-dfed32872f60",
   "metadata": {},
   "outputs": [
    {
     "name": "stdout",
     "output_type": "stream",
     "text": [
      "total error: 0.04095711638332795\n"
     ]
    }
   ],
   "source": [
    "mean_error = 0\n",
    "for i in range(len(objpoints)):\n",
    " imgpoints2, _ = cv.projectPoints(objpoints[i], rvecs[i], tvecs[i], mtx, dist)\n",
    " error = cv.norm(imgpoints[i], imgpoints2, cv.NORM_L2)/len(imgpoints2)\n",
    " mean_error += error\n",
    " \n",
    "print( \"total error: {}\".format(mean_error/len(objpoints)) )"
   ]
  },
  {
   "cell_type": "code",
   "execution_count": 1,
   "id": "278c440a-dfb4-4615-8f21-69bd4c3453e2",
   "metadata": {},
   "outputs": [
    {
     "name": "stdout",
     "output_type": "stream",
     "text": [
      "['./chess_photo3\\\\photo (1).jpg', './chess_photo3\\\\photo (10).jpg', './chess_photo3\\\\photo (11).jpg', './chess_photo3\\\\photo (12).jpg', './chess_photo3\\\\photo (13).jpg', './chess_photo3\\\\photo (2).jpg', './chess_photo3\\\\photo (3).jpg', './chess_photo3\\\\photo (4).jpg', './chess_photo3\\\\photo (5).jpg', './chess_photo3\\\\photo (6).jpg', './chess_photo3\\\\photo (7).jpg', './chess_photo3\\\\photo (8).jpg', './chess_photo3\\\\photo (9).jpg']\n",
      "./chess_photo3\\photo (1).jpg OK\n",
      "./chess_photo3\\photo (10).jpg OK\n"
     ]
    },
    {
     "ename": "error",
     "evalue": "OpenCV(4.10.0) D:\\a\\opencv-python\\opencv-python\\opencv\\modules\\imgproc\\src\\cornersubpix.cpp:58: error: (-215:Assertion failed) count >= 0 in function 'cv::cornerSubPix'\n",
     "output_type": "error",
     "traceback": [
      "\u001b[1;31m---------------------------------------------------------------------------\u001b[0m",
      "\u001b[1;31merror\u001b[0m                                     Traceback (most recent call last)",
      "Cell \u001b[1;32mIn[1], line 30\u001b[0m\n\u001b[0;32m     27\u001b[0m     objpoints\u001b[38;5;241m.\u001b[39mappend(objp)\n\u001b[0;32m     29\u001b[0m \u001b[38;5;28mprint\u001b[39m(fname \u001b[38;5;241m+\u001b[39m \u001b[38;5;124m\"\u001b[39m\u001b[38;5;124m OK\u001b[39m\u001b[38;5;124m\"\u001b[39m)\n\u001b[1;32m---> 30\u001b[0m corners2 \u001b[38;5;241m=\u001b[39m cv\u001b[38;5;241m.\u001b[39mcornerSubPix(gray, corners, (\u001b[38;5;241m1\u001b[39m, \u001b[38;5;241m1\u001b[39m), (\u001b[38;5;241m-\u001b[39m\u001b[38;5;241m1\u001b[39m, \u001b[38;5;241m-\u001b[39m\u001b[38;5;241m1\u001b[39m), criteria)\n\u001b[0;32m     31\u001b[0m imgpoints\u001b[38;5;241m.\u001b[39mappend(corners2)\n\u001b[0;32m     33\u001b[0m \u001b[38;5;66;03m# Draw and display the corners\u001b[39;00m\n",
      "\u001b[1;31merror\u001b[0m: OpenCV(4.10.0) D:\\a\\opencv-python\\opencv-python\\opencv\\modules\\imgproc\\src\\cornersubpix.cpp:58: error: (-215:Assertion failed) count >= 0 in function 'cv::cornerSubPix'\n"
     ]
    }
   ],
   "source": [
    "import numpy as np\n",
    "import cv2 as cv\n",
    "import glob\n",
    "\n",
    "# termination criteria\n",
    "criteria = (cv.TERM_CRITERIA_EPS + cv.TERM_CRITERIA_MAX_ITER, 30, 0.001)\n",
    "\n",
    "# prepare object points, like (0,0,0), (1,0,0), (2,0,0) ....,(6,5,0)\n",
    "objp = np.zeros((6*9,3), np.float32)\n",
    "objp[:,:2] = np.mgrid[0:9,0:6].T.reshape(-1,2)\n",
    "\n",
    "# Arrays to store object points and image points from all the images.\n",
    "objpoints = [] # 3d point in real world space\n",
    "imgpoints = [] # 2d points in image plane.\n",
    "\n",
    "images = glob.glob('./chess_photo3/*.jpg')\n",
    "print(images)\n",
    "i = 1\n",
    "for fname in images:\n",
    "    img = cv.imread(fname)\n",
    "    gray = cv.cvtColor(img, cv.COLOR_BGR2GRAY)\n",
    "    # Find the chess board corners\n",
    "    ret, corners = cv.findChessboardCorners(gray, (9,6), None)\n",
    "    #ret, corners = cv.findChessboardCornersSB(gray, (9,6), None)\n",
    "    # If found, add object points, image points (after refining them)\n",
    "    if ret == True:\n",
    "        objpoints.append(objp)\n",
    "\n",
    "    print(fname + \" OK\")\n",
    "    corners2 = cv.cornerSubPix(gray, corners, (1, 1), (-1, -1), criteria)\n",
    "    imgpoints.append(corners2)\n",
    " \n",
    "    # Draw and display the corners\n",
    "    cv.drawChessboardCorners(img, (9,6), corners2, ret)\n",
    "    cv.imshow('img', img)\n",
    "    cv.imwrite('./photo3/chess_photo_'+str(i)+'.jpg', img)\n",
    "    i += 1\n",
    "    cv.waitKey(100)\n",
    " \n",
    "cv.destroyAllWindows()"
   ]
  },
  {
   "cell_type": "code",
   "execution_count": 47,
   "id": "7d4a96a3-5350-44e3-bb45-513332ff1e87",
   "metadata": {},
   "outputs": [],
   "source": [
    "cv.destroyAllWindows()"
   ]
  },
  {
   "cell_type": "code",
   "execution_count": 49,
   "id": "309901b5-ad42-4d67-8eb0-a44698ad99b2",
   "metadata": {},
   "outputs": [],
   "source": [
    "ret, mtx, dist, rvecs, tvecs = cv.calibrateCamera(objpoints, imgpoints, gray.shape[::-1], None, None)"
   ]
  },
  {
   "cell_type": "code",
   "execution_count": 51,
   "id": "2f0f6daf-42f5-415d-8e4c-36baf9149ebb",
   "metadata": {},
   "outputs": [
    {
     "name": "stdout",
     "output_type": "stream",
     "text": [
      "['./chess_photo5\\\\photo (1).jpg', './chess_photo5\\\\photo (10).jpg', './chess_photo5\\\\photo (11).jpg', './chess_photo5\\\\photo (12).jpg', './chess_photo5\\\\photo (2).jpg', './chess_photo5\\\\photo (3).jpg', './chess_photo5\\\\photo (4).jpg', './chess_photo5\\\\photo (6).jpg', './chess_photo5\\\\photo (7).jpg', './chess_photo5\\\\photo (8).jpg', './chess_photo5\\\\photo (9).jpg']\n"
     ]
    }
   ],
   "source": [
    "images = glob.glob('./chess_photo3/*.jpg')\n",
    "print(images)\n",
    "ind = 0\n",
    "for fname in images:\n",
    "\n",
    "    ind += 1\n",
    "    img = cv.imread(fname)\n",
    "    h, w = img.shape[:2]\n",
    "    newcameramtx, roi = cv.getOptimalNewCameraMatrix(mtx, dist, (w,h), 1, (w,h))\n",
    "    # undistort\n",
    "    dst = cv.undistort(img, mtx, dist, None, newcameramtx)\n",
    " \n",
    "    # crop the image\n",
    "    x, y, w, h = roi\n",
    "    dst = dst[y:y+h, x:x+w]\n",
    "    cv.imwrite('./result3/chess_photo_calibrated_'+str(ind)+'.png', dst)"
   ]
  },
  {
   "cell_type": "code",
   "execution_count": 53,
   "id": "3a96f7aa-ecb5-4d10-88a4-587b0f32a8f0",
   "metadata": {},
   "outputs": [
    {
     "name": "stdout",
     "output_type": "stream",
     "text": [
      "1.4802260067569142 [[3.50479272e+03 0.00000000e+00 1.55360463e+03]\n",
      " [0.00000000e+00 3.51319042e+03 2.09519939e+03]\n",
      " [0.00000000e+00 0.00000000e+00 1.00000000e+00]] [[ 0.14954522 -0.45017798  0.00216927 -0.00064564  0.41427215]] (array([[0.04698435],\n",
      "       [0.58314405],\n",
      "       [1.3305768 ]]), array([[-0.66315479],\n",
      "       [-0.01766769],\n",
      "       [ 1.77923079]]), array([[-0.28276485],\n",
      "       [-0.03430749],\n",
      "       [ 1.50977637]]), array([[-0.24831912],\n",
      "       [ 0.27315678],\n",
      "       [ 1.67469022]]), array([[-0.51443245],\n",
      "       [ 0.01628988],\n",
      "       [ 1.46203538]]), array([[-0.72740798],\n",
      "       [ 0.61789387],\n",
      "       [ 1.45634594]]), array([[-0.40580754],\n",
      "       [-0.0451016 ],\n",
      "       [-1.55039188]]), array([[ 0.08600496],\n",
      "       [-0.54477372],\n",
      "       [-1.35115541]]), array([[ 0.32083086],\n",
      "       [ 0.26469671],\n",
      "       [-1.5633753 ]]), array([[-0.44003073],\n",
      "       [-0.13523772],\n",
      "       [ 3.00637107]]), array([[0.74203646],\n",
      "       [0.7418499 ],\n",
      "       [2.86930239]])) (array([[-1.58743628],\n",
      "       [-2.44868406],\n",
      "       [15.63578274]]), array([[ 5.66004902],\n",
      "       [-0.65310473],\n",
      "       [17.74328986]]), array([[ 2.61596382],\n",
      "       [-3.47259904],\n",
      "       [11.96372184]]), array([[ 7.38826946],\n",
      "       [-2.87595283],\n",
      "       [21.22654666]]), array([[ 0.13967844],\n",
      "       [-6.3676703 ],\n",
      "       [16.27803996]]), array([[ 0.11936538],\n",
      "       [ 2.72535233],\n",
      "       [23.00120899]]), array([[-3.09281765],\n",
      "       [ 3.2783125 ],\n",
      "       [10.04958597]]), array([[ 0.84832847],\n",
      "       [ 4.73137263],\n",
      "       [14.03695694]]), array([[-2.37697229],\n",
      "       [ 3.51176955],\n",
      "       [13.66871855]]), array([[ 4.38715527],\n",
      "       [-1.4349097 ],\n",
      "       [16.28593657]]), array([[ 1.83967888],\n",
      "       [ 5.07701416],\n",
      "       [11.38757904]]))\n"
     ]
    }
   ],
   "source": [
    "print(ret, mtx, dist, rvecs, tvecs)\n",
    "np.savez(\"CameraParams\", cameraMatrix=mtx, dist=dist, rvecs=rvecs, tvecs=tvecs)"
   ]
  },
  {
   "cell_type": "code",
   "execution_count": 21,
   "id": "0c862898-ad30-403d-a162-6cc968220230",
   "metadata": {},
   "outputs": [
    {
     "name": "stdout",
     "output_type": "stream",
     "text": [
      "total error: 0.04922471053740006\n"
     ]
    }
   ],
   "source": [
    "mean_error = 0\n",
    "for i in range(len(objpoints)):\n",
    " imgpoints2, _ = cv.projectPoints(objpoints[i], rvecs[i], tvecs[i], mtx, dist)\n",
    " error = cv.norm(imgpoints[i], imgpoints2, cv.NORM_L2)/len(imgpoints2)\n",
    " mean_error += error\n",
    " \n",
    "print( \"total error: {}\".format(mean_error/len(objpoints)) )"
   ]
  },
  {
   "cell_type": "code",
   "execution_count": null,
   "id": "db0e773b-686b-4473-90da-691b765023ff",
   "metadata": {},
   "outputs": [],
   "source": []
  }
 ],
 "metadata": {
  "kernelspec": {
   "display_name": "Python 3 (ipykernel)",
   "language": "python",
   "name": "python3"
  },
  "language_info": {
   "codemirror_mode": {
    "name": "ipython",
    "version": 3
   },
   "file_extension": ".py",
   "mimetype": "text/x-python",
   "name": "python",
   "nbconvert_exporter": "python",
   "pygments_lexer": "ipython3",
   "version": "3.12.3"
  }
 },
 "nbformat": 4,
 "nbformat_minor": 5
}
